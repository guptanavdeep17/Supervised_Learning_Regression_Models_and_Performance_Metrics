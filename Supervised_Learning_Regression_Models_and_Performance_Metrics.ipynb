{
  "nbformat": 4,
  "nbformat_minor": 0,
  "metadata": {
    "colab": {
      "provenance": []
    },
    "kernelspec": {
      "name": "python3",
      "display_name": "Python 3"
    },
    "language_info": {
      "name": "python"
    }
  },
  "cells": [
    {
      "cell_type": "markdown",
      "source": [
        "# Question 1 : What is Simple Linear Regression (SLR)? Explain its purpose.\n",
        "\n",
        " * Simple Linear Regression finds the best-fitting straight line (called the regression line) that predicts the value of Y based on X.\n",
        "The general equation of the line is:\n",
        "\n",
        "                          𝑌=𝑏0+𝑏1𝑋+𝜀\n",
        "\n",
        "\n",
        " Where:\n",
        "\n",
        " Y → Dependent variable (the variable we want to predict)\n",
        "\n",
        " X → Independent variable (the predictor)\n",
        "\n",
        " b₀ → Intercept (value of Y when X = 0)\n",
        "\n",
        " b₁ → Slope (change in Y for a one-unit change in X)\n",
        "\n",
        " ε → Error term (difference between actual and predicted values)\n",
        "\n",
        " * Purpose of Simple Linear Regression\n",
        "\n",
        "   *  Prediction:\n",
        "      To predict the value of one variable (Y) based on another variable (X).\n",
        "      Example: Predicting a student’s exam score (Y) from the number of study hours (X).\n",
        "\n",
        "  *   Relationship Analysis:\n",
        "      To determine whether there is a linear relationship between two variables.\n",
        "      Example: Studying how temperature (X) affects ice cream sales (Y).\n",
        "\n",
        "# Question 2: What are the key assumptions of Simple Linear Regression?\n",
        "\n",
        "  * 1. Linearity :-\n",
        "    The relationship between the independent variable (X) and the dependent variable (Y) should be linear.\n",
        "  \n",
        "  * 2. Independence of Errors :-\n",
        "    The residuals (errors) should be independent of each other.\n",
        "\n",
        "  * 3. Homoscedasticity (Constant Variance of Errors) :-\n",
        "    The variance of residuals should be constant across all levels of X.\n",
        "  \n",
        "  * 4. Normality of Errors :-\n",
        "    The residuals (errors) should be normally distributed.\n",
        "\n",
        "# Question 3: Write the mathematical equation for a simple linear regression model and explain each term.\n",
        "\n",
        "  * The general form of a simple linear regression model is:\n",
        "\n",
        "                              𝑌=𝑏0+𝑏1𝑋+𝜀\n",
        "\n",
        "  * Y = The variable we are trying to predict or explain. It changes in response to X.                          \n",
        "  * X = The predictor or input variable used to explain or predict Y.\n",
        "  * b₀ = The value of Y when X = 0. It represents where the regression line crosses the Y-axis.\n",
        "  * b₁ = Shows the change in Y for a one-unit change in X. It indicates the strength and direction of the relationship between X and Y.\n",
        "  * ε (epsilon) = Represents the random deviation of the observed values from the predicted regression line. It captures the influence of factors not included in the model.\n",
        "\n",
        "# Question 4: Provide a real-world example where simple linear regression can be applied.\n",
        "  \n",
        "  * A common real-world example of **Simple Linear Regression (SLR)** is predicting **house prices based on house size**. In this case, the **dependent variable (Y)** is the price of the house, and the **independent variable (X)** is the size of the house in square feet. By collecting data on several houses, such as their sizes and selling prices, we can use SLR to find a straight-line relationship between the two. For instance, the model might be expressed as *Price = 20 + 0.045 × (Size)*, where 20 represents the base price (in lakhs) when the size is zero, and 0.045 indicates that for every additional square foot, the price increases by ₹4,500 on average. This model helps real estate agents and buyers **predict the price of a house** based on its area and understand how **size influences cost**. Simple Linear Regression is widely applied in such cases where one variable depends directly on another, such as predicting student marks from study hours or estimating sales based on advertising spend.\n",
        "\n",
        "# Question 5: What is the method of least squares in linear regression?\n",
        "\n",
        "  * The **method of least squares** is a statistical technique used in **linear regression** to find the best-fitting straight line through a set of data points. It works by minimizing the **sum of the squared differences** between the actual observed values and the values predicted by the regression line. These differences, known as **residuals or errors**, represent how far each data point is from the fitted line. By squaring and summing these errors, the method ensures that both positive and negative deviations are treated equally, and that larger errors are given more weight. The goal is to find the line that makes this total squared error as small as possible. Mathematically, the regression line is expressed as ( Y = b_0 + b_1X ), where ( b_0 ) is the intercept and ( b_1 ) is the slope. The least squares method calculates these values so that the line best represents the relationship between the independent variable ( X ) and the dependent variable ( Y ). This approach is widely used because it provides the most accurate and reliable linear fit under normal statistical conditions.\n",
        "\n",
        "# Question 6: What is Logistic Regression? How does it differ from Linear Regression?\n",
        "\n",
        " * Logistic Regression is a statistical method used to predict the probability of a categorical (usually binary) outcome based on one or more independent variables. Unlike Linear Regression, which predicts continuous values, Logistic Regression predicts discrete outcomes, such as Yes/No, Pass/Fail, or Spam/Not Spam.\n",
        "\n",
        "In Logistic Regression, the relationship between the dependent variable and the independent variables is modeled using a sigmoid (S-shaped) curve, which converts the linear output into a probability value between 0 and 1.\n",
        "\n",
        "# Question 7: Name and briefly describe three common evaluation metrics for regression models.\n",
        "\n",
        "  * 1. Mean Absolute Error (MAE)\n",
        "    \n",
        "    MAE measures the average absolute difference between the actual and predicted values. It shows how far, on average, the predictions are from the actual outcomes.\n",
        "\n",
        "  * 2. Mean Squared Error (MSE)\n",
        "\n",
        "    MSE calculates the average of the squared differences between the actual and predicted values.  \n",
        "\n",
        "  * 3. R-squared (R²) – Coefficient of Determination\n",
        "\n",
        "    R² measures how well the regression model explains the variation in the dependent variable.  \n",
        "\n",
        "# Question 8: What is the purpose of the R-squared metric in regression analysis?\n",
        "\n",
        "  * The R-squared (R²) metric, also known as the coefficient of determination, measures how well a regression model explains the variability of the dependent variable using the independent variable(s). In other words, it shows the proportion of variance in the dependent variable (Y) that can be explained by the independent variable(s) (X) in the model.\n",
        "\n",
        "  The value of R² ranges between 0 and 1:\n",
        "\n",
        "    * An R² of 0 means the model does not explain any of the variation in Y — the predictions are no better than the mean of Y.\n",
        "\n",
        "    * An R² of 1 means the model perfectly explains all the variation in Y — the predictions match the actual values exactly."
      ],
      "metadata": {
        "id": "sMul0gz90mbV"
      }
    },
    {
      "cell_type": "markdown",
      "source": [
        "# Question 9: Write Python code to fit a simple linear regression model using scikit-learn and print the slope and intercept.\n"
      ],
      "metadata": {
        "id": "TJJJikQh67PA"
      }
    },
    {
      "cell_type": "code",
      "execution_count": 1,
      "metadata": {
        "colab": {
          "base_uri": "https://localhost:8080/"
        },
        "id": "rUXCgVHb0lOx",
        "outputId": "4a1a9cd2-246a-442f-a7b8-bd8f66c102de"
      },
      "outputs": [
        {
          "output_type": "stream",
          "name": "stdout",
          "text": [
            "Slope (b1): 4.999999999999999\n",
            "Intercept (b0): 40.00000000000001\n"
          ]
        }
      ],
      "source": [
        "# Import necessary libraries\n",
        "import numpy as np\n",
        "from sklearn.linear_model import LinearRegression\n",
        "\n",
        "# Example dataset\n",
        "# X = independent variable (e.g., hours studied)\n",
        "# Y = dependent variable (e.g., exam scores)\n",
        "X = np.array([2, 4, 6, 8, 10]).reshape(-1, 1)  # Reshape to 2D array\n",
        "Y = np.array([50, 60, 70, 80, 90])\n",
        "\n",
        "# Create and fit the model\n",
        "model = LinearRegression()\n",
        "model.fit(X, Y)\n",
        "\n",
        "# Get slope (coefficient) and intercept\n",
        "slope = model.coef_[0]\n",
        "intercept = model.intercept_\n",
        "\n",
        "# Print the results\n",
        "print(f\"Slope (b1): {slope}\")\n",
        "print(f\"Intercept (b0): {intercept}\")\n"
      ]
    },
    {
      "cell_type": "markdown",
      "source": [
        "# Question 10: How do you interpret the coefficients in a simple linear regression model?\n",
        "\n",
        "  * Intercept (b₀):\n",
        "\n",
        "    Represents the value of the dependent variable (Y) when the independent variable (X) is 0.\n",
        "\n",
        "    Acts as the starting point or baseline of the regression line.\n",
        "\n",
        "  * Slope (b₁):\n",
        "\n",
        "    Indicates the change in Y for a one-unit increase in X.\n",
        "\n",
        "    Shows the strength and direction of the relationship:\n",
        "\n",
        "      * Positive slope → Y increases as X increases.\n",
        "\n",
        "      * Negative slope → Y decreases as X increases."
      ],
      "metadata": {
        "id": "nW6iSFRj7EQX"
      }
    }
  ]
}